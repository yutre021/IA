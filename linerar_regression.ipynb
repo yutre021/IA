{
 "cells": [
  {
   "cell_type": "code",
   "execution_count": 119,
   "id": "049a98ea-cb8b-4433-ab30-2f74decf1cb4",
   "metadata": {},
   "outputs": [],
   "source": [
    "from numpy import *\n"
   ]
  },
  {
   "cell_type": "code",
   "execution_count": 121,
   "id": "1830bec4-3373-4523-99f2-aab0d2e40f5d",
   "metadata": {},
   "outputs": [],
   "source": [
    "class LinearRegression:\n",
    "    def __init__(self, x, y):\n",
    "        self.x = x\n",
    "        self.y = y\n",
    "        self.__correlation_coefficient = self.__correlation()\n",
    "        self.__inclination = self.__inclination()\n",
    "        self.__intercept = self.__intercept1()\n",
    "\n",
    "    def __correlation(self):\n",
    "        covariation = cov(self.x, self.y, bias=True)[0][1]\n",
    "        variance_x = var(self.x)\n",
    "        variance_y =  var(self.y)\n",
    "        return covariation / sqrt(variance_x*variance_y)\n",
    "        \n",
    "    def __inclination(self):\n",
    "        stdx = std(self.x)\n",
    "        stdy = std(self.y)\n",
    "        return self.__correlation_coefficient*(stdy/stdx)\n",
    "\n",
    "    def __intercept1(self):\n",
    "        meanx = mean(self.x)\n",
    "        meany = mean(self.y)\n",
    "        return meany-meanx*self.__inclination\n",
    "\n",
    "    def prevision(self, value):\n",
    "        return self.__intercept+(self.__inclination*value)\n",
    "        "
   ]
  },
  {
   "cell_type": "code",
   "execution_count": 123,
   "id": "a196e36e-48bb-4d24-a10a-4c696fd92210",
   "metadata": {},
   "outputs": [],
   "source": [
    "x=array([1,2,3,4,5])\n",
    "y=array([2,4,6,8,10])\n",
    "\n"
   ]
  },
  {
   "cell_type": "code",
   "execution_count": 125,
   "id": "2483e2cb-a019-4d46-be31-e03287233358",
   "metadata": {},
   "outputs": [
    {
     "name": "stdout",
     "output_type": "stream",
     "text": [
      "12.0\n"
     ]
    }
   ],
   "source": [
    "lr = LinearRegression(x,y)\n",
    "prevision = lr.prevision(6)\n",
    "print(prevision)"
   ]
  },
  {
   "cell_type": "code",
   "execution_count": null,
   "id": "acd740de-ea40-4226-b458-1e0264c19785",
   "metadata": {},
   "outputs": [],
   "source": []
  }
 ],
 "metadata": {
  "kernelspec": {
   "display_name": "Python [conda env:base] *",
   "language": "python",
   "name": "conda-base-py"
  },
  "language_info": {
   "codemirror_mode": {
    "name": "ipython",
    "version": 3
   },
   "file_extension": ".py",
   "mimetype": "text/x-python",
   "name": "python",
   "nbconvert_exporter": "python",
   "pygments_lexer": "ipython3",
   "version": "3.9.21"
  }
 },
 "nbformat": 4,
 "nbformat_minor": 5
}
