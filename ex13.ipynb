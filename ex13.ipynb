{
 "cells": [
  {
   "cell_type": "code",
   "execution_count": 167,
   "id": "5642e1bf",
   "metadata": {},
   "outputs": [],
   "source": [
    "import pandas as pd\n",
    "\n",
    "import matplotlib.pyplot as plt"
   ]
  },
  {
   "cell_type": "code",
   "execution_count": 2,
   "id": "060e955f",
   "metadata": {},
   "outputs": [],
   "source": [
    "\n",
    "ecom = pd.read_csv('C:/Users/TI01/Desktop/dados/dataset_exerc_13.csv')"
   ]
  },
  {
   "cell_type": "code",
   "execution_count": 3,
   "id": "b927e6ce",
   "metadata": {},
   "outputs": [
    {
     "data": {
      "text/html": [
       "<div>\n",
       "<style scoped>\n",
       "    .dataframe tbody tr th:only-of-type {\n",
       "        vertical-align: middle;\n",
       "    }\n",
       "\n",
       "    .dataframe tbody tr th {\n",
       "        vertical-align: top;\n",
       "    }\n",
       "\n",
       "    .dataframe thead th {\n",
       "        text-align: right;\n",
       "    }\n",
       "</style>\n",
       "<table border=\"1\" class=\"dataframe\">\n",
       "  <thead>\n",
       "    <tr style=\"text-align: right;\">\n",
       "      <th></th>\n",
       "      <th>ID_Pedido</th>\n",
       "      <th>Data_Pedido</th>\n",
       "      <th>ID_Cliente</th>\n",
       "      <th>Segmento</th>\n",
       "      <th>Pais</th>\n",
       "      <th>Cidade</th>\n",
       "      <th>Estado</th>\n",
       "      <th>ID_Produto</th>\n",
       "      <th>Categoria</th>\n",
       "      <th>SubCategoria</th>\n",
       "      <th>Valor_Venda</th>\n",
       "    </tr>\n",
       "  </thead>\n",
       "  <tbody>\n",
       "    <tr>\n",
       "      <th>0</th>\n",
       "      <td>CA-2017-152156</td>\n",
       "      <td>08/11/2017</td>\n",
       "      <td>CG-12520</td>\n",
       "      <td>Consumer</td>\n",
       "      <td>United States</td>\n",
       "      <td>Henderson</td>\n",
       "      <td>Kentucky</td>\n",
       "      <td>FUR-BO-10001798</td>\n",
       "      <td>Furniture</td>\n",
       "      <td>Bookcases</td>\n",
       "      <td>261.9600</td>\n",
       "    </tr>\n",
       "    <tr>\n",
       "      <th>1</th>\n",
       "      <td>CA-2017-152156</td>\n",
       "      <td>08/11/2017</td>\n",
       "      <td>CG-12520</td>\n",
       "      <td>Consumer</td>\n",
       "      <td>United States</td>\n",
       "      <td>Henderson</td>\n",
       "      <td>Kentucky</td>\n",
       "      <td>FUR-CH-10000454</td>\n",
       "      <td>Furniture</td>\n",
       "      <td>Chairs</td>\n",
       "      <td>731.9400</td>\n",
       "    </tr>\n",
       "    <tr>\n",
       "      <th>2</th>\n",
       "      <td>CA-2017-138688</td>\n",
       "      <td>12/06/2017</td>\n",
       "      <td>DV-13045</td>\n",
       "      <td>Corporate</td>\n",
       "      <td>United States</td>\n",
       "      <td>Los Angeles</td>\n",
       "      <td>California</td>\n",
       "      <td>OFF-LA-10000240</td>\n",
       "      <td>Office Supplies</td>\n",
       "      <td>Labels</td>\n",
       "      <td>14.6200</td>\n",
       "    </tr>\n",
       "    <tr>\n",
       "      <th>3</th>\n",
       "      <td>US-2016-108966</td>\n",
       "      <td>11/10/2016</td>\n",
       "      <td>SO-20335</td>\n",
       "      <td>Consumer</td>\n",
       "      <td>United States</td>\n",
       "      <td>Fort Lauderdale</td>\n",
       "      <td>Florida</td>\n",
       "      <td>FUR-TA-10000577</td>\n",
       "      <td>Furniture</td>\n",
       "      <td>Tables</td>\n",
       "      <td>957.5775</td>\n",
       "    </tr>\n",
       "    <tr>\n",
       "      <th>4</th>\n",
       "      <td>US-2016-108966</td>\n",
       "      <td>11/10/2016</td>\n",
       "      <td>SO-20335</td>\n",
       "      <td>Consumer</td>\n",
       "      <td>United States</td>\n",
       "      <td>Fort Lauderdale</td>\n",
       "      <td>Florida</td>\n",
       "      <td>OFF-ST-10000760</td>\n",
       "      <td>Office Supplies</td>\n",
       "      <td>Storage</td>\n",
       "      <td>22.3680</td>\n",
       "    </tr>\n",
       "    <tr>\n",
       "      <th>...</th>\n",
       "      <td>...</td>\n",
       "      <td>...</td>\n",
       "      <td>...</td>\n",
       "      <td>...</td>\n",
       "      <td>...</td>\n",
       "      <td>...</td>\n",
       "      <td>...</td>\n",
       "      <td>...</td>\n",
       "      <td>...</td>\n",
       "      <td>...</td>\n",
       "      <td>...</td>\n",
       "    </tr>\n",
       "    <tr>\n",
       "      <th>9695</th>\n",
       "      <td>CA-2018-154116</td>\n",
       "      <td>15/12/2018</td>\n",
       "      <td>KM-16660</td>\n",
       "      <td>Consumer</td>\n",
       "      <td>United States</td>\n",
       "      <td>Inglewood</td>\n",
       "      <td>California</td>\n",
       "      <td>OFF-PA-10004569</td>\n",
       "      <td>Office Supplies</td>\n",
       "      <td>Paper</td>\n",
       "      <td>22.8300</td>\n",
       "    </tr>\n",
       "    <tr>\n",
       "      <th>9696</th>\n",
       "      <td>CA-2018-154116</td>\n",
       "      <td>15/12/2018</td>\n",
       "      <td>KM-16660</td>\n",
       "      <td>Consumer</td>\n",
       "      <td>United States</td>\n",
       "      <td>Inglewood</td>\n",
       "      <td>California</td>\n",
       "      <td>OFF-AP-10000027</td>\n",
       "      <td>Office Supplies</td>\n",
       "      <td>Appliances</td>\n",
       "      <td>54.3200</td>\n",
       "    </tr>\n",
       "    <tr>\n",
       "      <th>9697</th>\n",
       "      <td>CA-2018-154116</td>\n",
       "      <td>15/12/2018</td>\n",
       "      <td>KM-16660</td>\n",
       "      <td>Consumer</td>\n",
       "      <td>United States</td>\n",
       "      <td>Inglewood</td>\n",
       "      <td>California</td>\n",
       "      <td>TEC-PH-10000675</td>\n",
       "      <td>Technology</td>\n",
       "      <td>Phones</td>\n",
       "      <td>196.7760</td>\n",
       "    </tr>\n",
       "    <tr>\n",
       "      <th>9698</th>\n",
       "      <td>CA-2017-105291</td>\n",
       "      <td>30/10/2017</td>\n",
       "      <td>SP-20920</td>\n",
       "      <td>Consumer</td>\n",
       "      <td>United States</td>\n",
       "      <td>San Luis Obispo</td>\n",
       "      <td>California</td>\n",
       "      <td>OFF-FA-10003059</td>\n",
       "      <td>Office Supplies</td>\n",
       "      <td>Fasteners</td>\n",
       "      <td>3.6200</td>\n",
       "    </tr>\n",
       "    <tr>\n",
       "      <th>9699</th>\n",
       "      <td>CA-2018-147032</td>\n",
       "      <td>31/07/2018</td>\n",
       "      <td>LB-16795</td>\n",
       "      <td>Home Office</td>\n",
       "      <td>United States</td>\n",
       "      <td>Wilmington</td>\n",
       "      <td>Delaware</td>\n",
       "      <td>OFF-PA-10003256</td>\n",
       "      <td>Office Supplies</td>\n",
       "      <td>Paper</td>\n",
       "      <td>11.5400</td>\n",
       "    </tr>\n",
       "  </tbody>\n",
       "</table>\n",
       "<p>9700 rows × 11 columns</p>\n",
       "</div>"
      ],
      "text/plain": [
       "           ID_Pedido Data_Pedido ID_Cliente     Segmento           Pais  \\\n",
       "0     CA-2017-152156  08/11/2017   CG-12520     Consumer  United States   \n",
       "1     CA-2017-152156  08/11/2017   CG-12520     Consumer  United States   \n",
       "2     CA-2017-138688  12/06/2017   DV-13045    Corporate  United States   \n",
       "3     US-2016-108966  11/10/2016   SO-20335     Consumer  United States   \n",
       "4     US-2016-108966  11/10/2016   SO-20335     Consumer  United States   \n",
       "...              ...         ...        ...          ...            ...   \n",
       "9695  CA-2018-154116  15/12/2018   KM-16660     Consumer  United States   \n",
       "9696  CA-2018-154116  15/12/2018   KM-16660     Consumer  United States   \n",
       "9697  CA-2018-154116  15/12/2018   KM-16660     Consumer  United States   \n",
       "9698  CA-2017-105291  30/10/2017   SP-20920     Consumer  United States   \n",
       "9699  CA-2018-147032  31/07/2018   LB-16795  Home Office  United States   \n",
       "\n",
       "               Cidade      Estado       ID_Produto        Categoria  \\\n",
       "0           Henderson    Kentucky  FUR-BO-10001798        Furniture   \n",
       "1           Henderson    Kentucky  FUR-CH-10000454        Furniture   \n",
       "2         Los Angeles  California  OFF-LA-10000240  Office Supplies   \n",
       "3     Fort Lauderdale     Florida  FUR-TA-10000577        Furniture   \n",
       "4     Fort Lauderdale     Florida  OFF-ST-10000760  Office Supplies   \n",
       "...               ...         ...              ...              ...   \n",
       "9695        Inglewood  California  OFF-PA-10004569  Office Supplies   \n",
       "9696        Inglewood  California  OFF-AP-10000027  Office Supplies   \n",
       "9697        Inglewood  California  TEC-PH-10000675       Technology   \n",
       "9698  San Luis Obispo  California  OFF-FA-10003059  Office Supplies   \n",
       "9699       Wilmington    Delaware  OFF-PA-10003256  Office Supplies   \n",
       "\n",
       "     SubCategoria  Valor_Venda  \n",
       "0       Bookcases     261.9600  \n",
       "1          Chairs     731.9400  \n",
       "2          Labels      14.6200  \n",
       "3          Tables     957.5775  \n",
       "4         Storage      22.3680  \n",
       "...           ...          ...  \n",
       "9695        Paper      22.8300  \n",
       "9696   Appliances      54.3200  \n",
       "9697       Phones     196.7760  \n",
       "9698    Fasteners       3.6200  \n",
       "9699        Paper      11.5400  \n",
       "\n",
       "[9700 rows x 11 columns]"
      ]
     },
     "execution_count": 3,
     "metadata": {},
     "output_type": "execute_result"
    }
   ],
   "source": [
    "ecom"
   ]
  },
  {
   "cell_type": "code",
   "execution_count": 4,
   "id": "50a524e3",
   "metadata": {},
   "outputs": [
    {
     "data": {
      "text/plain": [
       "ID_Pedido       0\n",
       "Data_Pedido     0\n",
       "ID_Cliente      0\n",
       "Segmento        0\n",
       "Pais            0\n",
       "Cidade          0\n",
       "Estado          0\n",
       "ID_Produto      0\n",
       "Categoria       0\n",
       "SubCategoria    0\n",
       "Valor_Venda     0\n",
       "dtype: int64"
      ]
     },
     "execution_count": 4,
     "metadata": {},
     "output_type": "execute_result"
    }
   ],
   "source": [
    "ecom.isna().sum()"
   ]
  },
  {
   "cell_type": "code",
   "execution_count": 5,
   "id": "e3fe610f",
   "metadata": {},
   "outputs": [
    {
     "data": {
      "text/html": [
       "<div>\n",
       "<style scoped>\n",
       "    .dataframe tbody tr th:only-of-type {\n",
       "        vertical-align: middle;\n",
       "    }\n",
       "\n",
       "    .dataframe tbody tr th {\n",
       "        vertical-align: top;\n",
       "    }\n",
       "\n",
       "    .dataframe thead th {\n",
       "        text-align: right;\n",
       "    }\n",
       "</style>\n",
       "<table border=\"1\" class=\"dataframe\">\n",
       "  <thead>\n",
       "    <tr style=\"text-align: right;\">\n",
       "      <th></th>\n",
       "      <th>ID_Pedido</th>\n",
       "      <th>Data_Pedido</th>\n",
       "      <th>ID_Cliente</th>\n",
       "      <th>Segmento</th>\n",
       "      <th>Pais</th>\n",
       "      <th>Cidade</th>\n",
       "      <th>Estado</th>\n",
       "      <th>ID_Produto</th>\n",
       "      <th>Categoria</th>\n",
       "      <th>SubCategoria</th>\n",
       "      <th>Valor_Venda</th>\n",
       "    </tr>\n",
       "  </thead>\n",
       "  <tbody>\n",
       "  </tbody>\n",
       "</table>\n",
       "</div>"
      ],
      "text/plain": [
       "Empty DataFrame\n",
       "Columns: [ID_Pedido, Data_Pedido, ID_Cliente, Segmento, Pais, Cidade, Estado, ID_Produto, Categoria, SubCategoria, Valor_Venda]\n",
       "Index: []"
      ]
     },
     "execution_count": 5,
     "metadata": {},
     "output_type": "execute_result"
    }
   ],
   "source": [
    "ecom[ecom.isna().any(axis=1)]"
   ]
  },
  {
   "cell_type": "markdown",
   "id": "18a339c5",
   "metadata": {},
   "source": [
    "# Desafio 1"
   ]
  },
  {
   "cell_type": "code",
   "execution_count": 18,
   "id": "01cb16fa",
   "metadata": {},
   "outputs": [
    {
     "data": {
      "text/plain": [
       "Cidade\n",
       "New York City    68362.814\n",
       "Los Angeles      47098.100\n",
       "San Francisco    41771.198\n",
       "Seattle          34856.878\n",
       "Philadelphia     29313.687\n",
       "Detroit          18431.452\n",
       "Houston          16125.276\n",
       "Springfield      13887.152\n",
       "Columbus         13682.256\n",
       "Chicago          13449.746\n",
       "Name: Valor_Venda, dtype: float64"
      ]
     },
     "execution_count": 18,
     "metadata": {},
     "output_type": "execute_result"
    }
   ],
   "source": [
    "sampledata = ecom[ecom['Categoria']=='Office Supplies'].groupby('Cidade').sum()\n",
    "\n",
    "sampledata = sampledata['Valor_Venda'].nlargest(10)\n",
    "\n",
    "sampledata"
   ]
  },
  {
   "cell_type": "code",
   "execution_count": 12,
   "id": "e49ee7e9",
   "metadata": {},
   "outputs": [],
   "source": [
    "let = ecom[['Valor_Venda','Data_Pedido']]"
   ]
  },
  {
   "cell_type": "code",
   "execution_count": 13,
   "id": "959ff85e",
   "metadata": {},
   "outputs": [
    {
     "data": {
      "text/html": [
       "<div>\n",
       "<style scoped>\n",
       "    .dataframe tbody tr th:only-of-type {\n",
       "        vertical-align: middle;\n",
       "    }\n",
       "\n",
       "    .dataframe tbody tr th {\n",
       "        vertical-align: top;\n",
       "    }\n",
       "\n",
       "    .dataframe thead th {\n",
       "        text-align: right;\n",
       "    }\n",
       "</style>\n",
       "<table border=\"1\" class=\"dataframe\">\n",
       "  <thead>\n",
       "    <tr style=\"text-align: right;\">\n",
       "      <th></th>\n",
       "      <th>Valor_Venda</th>\n",
       "      <th>Data_Pedido</th>\n",
       "    </tr>\n",
       "  </thead>\n",
       "  <tbody>\n",
       "    <tr>\n",
       "      <th>0</th>\n",
       "      <td>261.9600</td>\n",
       "      <td>08/11/2017</td>\n",
       "    </tr>\n",
       "    <tr>\n",
       "      <th>1</th>\n",
       "      <td>731.9400</td>\n",
       "      <td>08/11/2017</td>\n",
       "    </tr>\n",
       "    <tr>\n",
       "      <th>2</th>\n",
       "      <td>14.6200</td>\n",
       "      <td>12/06/2017</td>\n",
       "    </tr>\n",
       "    <tr>\n",
       "      <th>3</th>\n",
       "      <td>957.5775</td>\n",
       "      <td>11/10/2016</td>\n",
       "    </tr>\n",
       "    <tr>\n",
       "      <th>4</th>\n",
       "      <td>22.3680</td>\n",
       "      <td>11/10/2016</td>\n",
       "    </tr>\n",
       "    <tr>\n",
       "      <th>...</th>\n",
       "      <td>...</td>\n",
       "      <td>...</td>\n",
       "    </tr>\n",
       "    <tr>\n",
       "      <th>9695</th>\n",
       "      <td>22.8300</td>\n",
       "      <td>15/12/2018</td>\n",
       "    </tr>\n",
       "    <tr>\n",
       "      <th>9696</th>\n",
       "      <td>54.3200</td>\n",
       "      <td>15/12/2018</td>\n",
       "    </tr>\n",
       "    <tr>\n",
       "      <th>9697</th>\n",
       "      <td>196.7760</td>\n",
       "      <td>15/12/2018</td>\n",
       "    </tr>\n",
       "    <tr>\n",
       "      <th>9698</th>\n",
       "      <td>3.6200</td>\n",
       "      <td>30/10/2017</td>\n",
       "    </tr>\n",
       "    <tr>\n",
       "      <th>9699</th>\n",
       "      <td>11.5400</td>\n",
       "      <td>31/07/2018</td>\n",
       "    </tr>\n",
       "  </tbody>\n",
       "</table>\n",
       "<p>9700 rows × 2 columns</p>\n",
       "</div>"
      ],
      "text/plain": [
       "      Valor_Venda Data_Pedido\n",
       "0        261.9600  08/11/2017\n",
       "1        731.9400  08/11/2017\n",
       "2         14.6200  12/06/2017\n",
       "3        957.5775  11/10/2016\n",
       "4         22.3680  11/10/2016\n",
       "...           ...         ...\n",
       "9695      22.8300  15/12/2018\n",
       "9696      54.3200  15/12/2018\n",
       "9697     196.7760  15/12/2018\n",
       "9698       3.6200  30/10/2017\n",
       "9699      11.5400  31/07/2018\n",
       "\n",
       "[9700 rows x 2 columns]"
      ]
     },
     "execution_count": 13,
     "metadata": {},
     "output_type": "execute_result"
    }
   ],
   "source": [
    "let"
   ]
  },
  {
   "cell_type": "markdown",
   "id": "e4819830",
   "metadata": {},
   "source": [
    "# Desafio 2"
   ]
  },
  {
   "cell_type": "code",
   "execution_count": 23,
   "id": "87835e76",
   "metadata": {},
   "outputs": [],
   "source": [
    "import seaborn as sns"
   ]
  },
  {
   "cell_type": "code",
   "execution_count": 21,
   "id": "be706c53",
   "metadata": {},
   "outputs": [
    {
     "data": {
      "text/plain": [
       "Data_Pedido\n",
       "01/01/2018    1481.8280\n",
       "01/02/2015     468.9000\n",
       "01/02/2017     161.9700\n",
       "01/03/2015    2203.1510\n",
       "01/03/2016    1642.1744\n",
       "                ...    \n",
       "31/10/2017    2346.5790\n",
       "31/10/2018     523.9280\n",
       "31/12/2015    5253.2700\n",
       "31/12/2016    1381.3440\n",
       "31/12/2017     731.7680\n",
       "Name: Valor_Venda, Length: 1226, dtype: float64"
      ]
     },
     "execution_count": 21,
     "metadata": {},
     "output_type": "execute_result"
    }
   ],
   "source": [
    "sampledata = ecom.groupby('Data_Pedido').sum()\n",
    "sampledata = sampledata['Valor_Venda']\n",
    "sampledata\n"
   ]
  },
  {
   "cell_type": "code",
   "execution_count": 170,
   "id": "86fa1bfe",
   "metadata": {},
   "outputs": [
    {
     "data": {
      "image/png": "[encoded data removed]",
      "text/plain": [
       "<Figure size 640x480 with 1 Axes>"
      ]
     },
     "metadata": {},
     "output_type": "display_data"
    }
   ],
   "source": [
    "plt.bar(ecom['Data_Pedido'], ecom['Valor_Venda'])\n",
    "plt.xlabel('Data')\n",
    "plt.ylabel('Valor')\n",
    "plt.title('Gráfico de Barras')\n",
    "plt.show()"
   ]
  },
  {
   "cell_type": "markdown",
   "id": "49097151",
   "metadata": {},
   "source": [
    "# Desafio 3"
   ]
  },
  {
   "cell_type": "code",
   "execution_count": 28,
   "id": "00aaaa48",
   "metadata": {},
   "outputs": [
    {
     "data": {
      "text/plain": [
       "Estado\n",
       "Alabama                  19510.6400\n",
       "Arizona                  35272.6570\n",
       "Arkansas                 11673.8300\n",
       "California              442927.0975\n",
       "Colorado                 31841.5980\n",
       "Connecticut              13366.7370\n",
       "Delaware                 26452.5890\n",
       "District of Columbia      2865.0200\n",
       "Florida                  88043.7000\n",
       "Georgia                  48083.1600\n",
       "Idaho                     4292.5160\n",
       "Illinois                 78109.9270\n",
       "Indiana                  48718.4000\n",
       "Iowa                      4443.5600\n",
       "Kansas                    2914.3100\n",
       "Kentucky                 36409.5800\n",
       "Louisiana                 9131.0500\n",
       "Maine                     1270.5300\n",
       "Maryland                 23705.5230\n",
       "Massachusetts            27363.2640\n",
       "Michigan                 76081.1740\n",
       "Minnesota                29863.1500\n",
       "Mississippi              10771.3400\n",
       "Missouri                 22205.1500\n",
       "Montana                   5589.3520\n",
       "Nebraska                  7194.9500\n",
       "Nevada                   16729.1020\n",
       "New Hampshire             7132.5440\n",
       "New Jersey               34265.7120\n",
       "New Mexico                4783.5220\n",
       "New York                304536.4010\n",
       "North Carolina           55165.9640\n",
       "North Dakota               919.9100\n",
       "Ohio                     74277.8020\n",
       "Oklahoma                 19683.3900\n",
       "Oregon                   17284.4620\n",
       "Pennsylvania            114411.6800\n",
       "Rhode Island             22525.0260\n",
       "South Carolina            8481.7100\n",
       "South Dakota              1315.5600\n",
       "Tennessee                30661.8730\n",
       "Texas                   163549.8602\n",
       "Utah                     11220.0560\n",
       "Vermont                   4524.4700\n",
       "Virginia                 68194.6700\n",
       "Washington              133826.0060\n",
       "West Virginia             1209.8240\n",
       "Wisconsin                31154.4700\n",
       "Wyoming                   1603.1360\n",
       "Name: Valor_Venda, dtype: float64"
      ]
     },
     "execution_count": 28,
     "metadata": {},
     "output_type": "execute_result"
    }
   ],
   "source": [
    "sampledata = ecom.groupby('Estado').sum()\n",
    "sampledata = sampledata['Valor_Venda']\n",
    "sampledata"
   ]
  },
  {
   "cell_type": "code",
   "execution_count": 165,
   "id": "29033a9b",
   "metadata": {},
   "outputs": [
    {
     "data": {
      "image/png": "[encoded data removed]",
      "text/plain": [
       "<Figure size 640x480 with 1 Axes>"
      ]
     },
     "metadata": {},
     "output_type": "display_data"
    }
   ],
   "source": [
    "plt.bar(ecom['Estado'], ecom['Valor_Venda'])\n",
    "plt.xlabel('Estado')\n",
    "plt.ylabel('Valor_Vendas')\n",
    "plt.title('Gráfico de Barras')\n",
    "plt.show()"
   ]
  },
  {
   "cell_type": "markdown",
   "id": "3776c5e7",
   "metadata": {},
   "source": [
    "# Desafio 4"
   ]
  },
  {
   "cell_type": "code",
   "execution_count": 148,
   "id": "6d43716f",
   "metadata": {},
   "outputs": [],
   "source": [
    "sampledata = ecom.groupby('Cidade').sum()\n",
    "sampledata=sampledata['Valor_Venda']"
   ]
  },
  {
   "cell_type": "code",
   "execution_count": 149,
   "id": "a0d95b61",
   "metadata": {},
   "outputs": [
    {
     "data": {
      "text/plain": [
       "Cidade\n",
       "New York City    251749.2190\n",
       "Los Angeles      171654.6330\n",
       "Seattle          114725.4780\n",
       "San Francisco    107489.9520\n",
       "Philadelphia     107197.8030\n",
       "Houston           61590.1868\n",
       "San Diego         47458.3790\n",
       "Chicago           46974.3430\n",
       "Jacksonville      44713.1830\n",
       "Detroit           42446.9440\n",
       "Name: Valor_Venda, dtype: float64"
      ]
     },
     "execution_count": 149,
     "metadata": {},
     "output_type": "execute_result"
    }
   ],
   "source": [
    "sampledata.nlargest(10)"
   ]
  },
  {
   "cell_type": "code",
   "execution_count": 164,
   "id": "930c3dc7",
   "metadata": {},
   "outputs": [
    {
     "data": {
      "image/png": "[encoded data removed]",
      "text/plain": [
       "<Figure size 640x480 with 1 Axes>"
      ]
     },
     "metadata": {},
     "output_type": "display_data"
    }
   ],
   "source": [
    "import matplotlib.pyplot as plt\n",
    "\n",
    "\n",
    "\n",
    "plt.bar(ecom['Cidade'], ecom['Valor_Venda'])\n",
    "plt.xlabel('Cidades')\n",
    "plt.ylabel('Valor de Vendas')\n",
    "plt.title('Gráfico de Barras')\n",
    "plt.show()"
   ]
  },
  {
   "cell_type": "markdown",
   "id": "0f7b18c2",
   "metadata": {},
   "source": [
    "# Desafio 5"
   ]
  },
  {
   "cell_type": "code",
   "execution_count": 145,
   "id": "9e7f575d",
   "metadata": {},
   "outputs": [
    {
     "data": {
      "text/plain": [
       "Segmento\n",
       "Consumer       1.133834e+06\n",
       "Corporate      6.792322e+05\n",
       "Home Office    4.224914e+05\n",
       "Name: Valor_Venda, dtype: float64"
      ]
     },
     "execution_count": 145,
     "metadata": {},
     "output_type": "execute_result"
    }
   ],
   "source": [
    "contagem_vendas = ecom.groupby('Segmento').sum()\n",
    "contagem_vendas = contagem_vendas['Valor_Venda']\n",
    "contagem_vendas"
   ]
  },
  {
   "cell_type": "code",
   "execution_count": 157,
   "id": "974f1dbb",
   "metadata": {},
   "outputs": [
    {
     "data": {
      "text/plain": [
       "<Axes: ylabel='Valor_Venda'>"
      ]
     },
     "execution_count": 157,
     "metadata": {},
     "output_type": "execute_result"
    },
    {
     "data": {
      "image/png": "[encoded data removed]",
      "text/plain": [
       "<Figure size 1400x600 with 1 Axes>"
      ]
     },
     "metadata": {},
     "output_type": "display_data"
    }
   ],
   "source": [
    "contagem_vendas.plot.pie(autopct=\"%.1f%%\", figsize=(14, 6))"
   ]
  },
  {
   "cell_type": "markdown",
   "id": "7a2818a9",
   "metadata": {},
   "source": [
    "# Desafio 6"
   ]
  },
  {
   "cell_type": "code",
   "execution_count": 98,
   "id": "0536a069",
   "metadata": {},
   "outputs": [],
   "source": [
    "ecom[['Dia', 'Mes','Ano']] = ecom['Data_Pedido'].str.split('/', expand=True)\n"
   ]
  },
  {
   "cell_type": "code",
   "execution_count": 38,
   "id": "d4c86645",
   "metadata": {},
   "outputs": [
    {
     "data": {
      "text/plain": [
       "Ano   Segmento   \n",
       "2015  Consumer       256719.9166\n",
       "      Corporate      125819.5957\n",
       "      Home Office     88229.0878\n",
       "2016  Consumer       265295.2593\n",
       "      Corporate      114643.1229\n",
       "      Home Office     74134.1332\n",
       "2017  Consumer       288459.5572\n",
       "      Corporate      203266.7398\n",
       "      Home Office    103639.6270\n",
       "2018  Consumer       323359.6019\n",
       "      Corporate      235502.7284\n",
       "      Home Office    156488.5849\n",
       "Name: Valor_Venda, dtype: float64"
      ]
     },
     "execution_count": 38,
     "metadata": {},
     "output_type": "execute_result"
    }
   ],
   "source": [
    "contagem_vendas = ecom.groupby(['Ano','Segmento']).sum()\n",
    "contagem_vendas = contagem_vendas['Valor_Venda']\n",
    "contagem_vendas"
   ]
  },
  {
   "cell_type": "markdown",
   "id": "ec69f821",
   "metadata": {},
   "source": [
    "# Desafio 7"
   ]
  },
  {
   "cell_type": "code",
   "execution_count": 39,
   "id": "afe78eef",
   "metadata": {},
   "outputs": [
    {
     "name": "stdout",
     "output_type": "stream",
     "text": [
      "0.10  9243\n",
      "0.15  457\n"
     ]
    }
   ],
   "source": [
    "venda10= 0\n",
    "venda15 = 0\n",
    "\n",
    "for grade in ecom['Valor_Venda']:\n",
    "\n",
    "\n",
    "    if grade >1000:\n",
    "        venda15+=1\n",
    "\n",
    "    elif grade <=1000:\n",
    "        venda10+=1\n",
    "\n",
    "print('0.10 ', venda10)\n",
    "print('0.15 ', venda15)"
   ]
  },
  {
   "cell_type": "markdown",
   "id": "b233e943",
   "metadata": {},
   "source": [
    "# Desafio 8"
   ]
  },
  {
   "cell_type": "code",
   "execution_count": 40,
   "id": "965dc862",
   "metadata": {},
   "outputs": [
    {
     "name": "stdout",
     "output_type": "stream",
     "text": [
      "Média das vendas antes do desconto de 15%:   2116.81\n",
      "Média das vendas depois do desconto de 15%:   1799.29\n"
     ]
    }
   ],
   "source": [
    "venda10= 0\n",
    "venda15 = 0\n",
    "vendasantes=0\n",
    "vendasdepois=0\n",
    "\n",
    "for grade in ecom['Valor_Venda']:\n",
    "\n",
    "\n",
    "    if grade >1000:\n",
    "        venda15+=1\n",
    "        vendasantes+=grade\n",
    "        vendasdepois+= (grade -(grade*0.15))\n",
    "        \n",
    "print('Média das vendas antes do desconto de 15%:  ', round((vendasantes/venda15),2))\n",
    "print('Média das vendas depois do desconto de 15%:  ', round((vendasdepois/venda15),2))"
   ]
  },
  {
   "cell_type": "markdown",
   "id": "71a08e6a",
   "metadata": {},
   "source": [
    "# Desafio 9"
   ]
  },
  {
   "cell_type": "code",
   "execution_count": 99,
   "id": "77d5ee52",
   "metadata": {},
   "outputs": [
    {
     "data": {
      "text/html": [
       "<div>\n",
       "<style scoped>\n",
       "    .dataframe tbody tr th:only-of-type {\n",
       "        vertical-align: middle;\n",
       "    }\n",
       "\n",
       "    .dataframe tbody tr th {\n",
       "        vertical-align: top;\n",
       "    }\n",
       "\n",
       "    .dataframe thead th {\n",
       "        text-align: right;\n",
       "    }\n",
       "</style>\n",
       "<table border=\"1\" class=\"dataframe\">\n",
       "  <thead>\n",
       "    <tr style=\"text-align: right;\">\n",
       "      <th></th>\n",
       "      <th>ID_Pedido</th>\n",
       "      <th>Data_Pedido</th>\n",
       "      <th>ID_Cliente</th>\n",
       "      <th>Segmento</th>\n",
       "      <th>Pais</th>\n",
       "      <th>Cidade</th>\n",
       "      <th>Estado</th>\n",
       "      <th>ID_Produto</th>\n",
       "      <th>Categoria</th>\n",
       "      <th>SubCategoria</th>\n",
       "      <th>Valor_Venda</th>\n",
       "      <th>Dia</th>\n",
       "      <th>Mes</th>\n",
       "      <th>Ano</th>\n",
       "    </tr>\n",
       "  </thead>\n",
       "  <tbody>\n",
       "    <tr>\n",
       "      <th>0</th>\n",
       "      <td>CA-2017-152156</td>\n",
       "      <td>08/11/2017</td>\n",
       "      <td>CG-12520</td>\n",
       "      <td>Consumer</td>\n",
       "      <td>United States</td>\n",
       "      <td>Henderson</td>\n",
       "      <td>Kentucky</td>\n",
       "      <td>FUR-BO-10001798</td>\n",
       "      <td>Furniture</td>\n",
       "      <td>Bookcases</td>\n",
       "      <td>261.9600</td>\n",
       "      <td>08</td>\n",
       "      <td>11</td>\n",
       "      <td>2017</td>\n",
       "    </tr>\n",
       "    <tr>\n",
       "      <th>1</th>\n",
       "      <td>CA-2017-152156</td>\n",
       "      <td>08/11/2017</td>\n",
       "      <td>CG-12520</td>\n",
       "      <td>Consumer</td>\n",
       "      <td>United States</td>\n",
       "      <td>Henderson</td>\n",
       "      <td>Kentucky</td>\n",
       "      <td>FUR-CH-10000454</td>\n",
       "      <td>Furniture</td>\n",
       "      <td>Chairs</td>\n",
       "      <td>731.9400</td>\n",
       "      <td>08</td>\n",
       "      <td>11</td>\n",
       "      <td>2017</td>\n",
       "    </tr>\n",
       "    <tr>\n",
       "      <th>2</th>\n",
       "      <td>CA-2017-138688</td>\n",
       "      <td>12/06/2017</td>\n",
       "      <td>DV-13045</td>\n",
       "      <td>Corporate</td>\n",
       "      <td>United States</td>\n",
       "      <td>Los Angeles</td>\n",
       "      <td>California</td>\n",
       "      <td>OFF-LA-10000240</td>\n",
       "      <td>Office Supplies</td>\n",
       "      <td>Labels</td>\n",
       "      <td>14.6200</td>\n",
       "      <td>12</td>\n",
       "      <td>6</td>\n",
       "      <td>2017</td>\n",
       "    </tr>\n",
       "    <tr>\n",
       "      <th>3</th>\n",
       "      <td>US-2016-108966</td>\n",
       "      <td>11/10/2016</td>\n",
       "      <td>SO-20335</td>\n",
       "      <td>Consumer</td>\n",
       "      <td>United States</td>\n",
       "      <td>Fort Lauderdale</td>\n",
       "      <td>Florida</td>\n",
       "      <td>FUR-TA-10000577</td>\n",
       "      <td>Furniture</td>\n",
       "      <td>Tables</td>\n",
       "      <td>957.5775</td>\n",
       "      <td>11</td>\n",
       "      <td>10</td>\n",
       "      <td>2016</td>\n",
       "    </tr>\n",
       "    <tr>\n",
       "      <th>4</th>\n",
       "      <td>US-2016-108966</td>\n",
       "      <td>11/10/2016</td>\n",
       "      <td>SO-20335</td>\n",
       "      <td>Consumer</td>\n",
       "      <td>United States</td>\n",
       "      <td>Fort Lauderdale</td>\n",
       "      <td>Florida</td>\n",
       "      <td>OFF-ST-10000760</td>\n",
       "      <td>Office Supplies</td>\n",
       "      <td>Storage</td>\n",
       "      <td>22.3680</td>\n",
       "      <td>11</td>\n",
       "      <td>10</td>\n",
       "      <td>2016</td>\n",
       "    </tr>\n",
       "    <tr>\n",
       "      <th>...</th>\n",
       "      <td>...</td>\n",
       "      <td>...</td>\n",
       "      <td>...</td>\n",
       "      <td>...</td>\n",
       "      <td>...</td>\n",
       "      <td>...</td>\n",
       "      <td>...</td>\n",
       "      <td>...</td>\n",
       "      <td>...</td>\n",
       "      <td>...</td>\n",
       "      <td>...</td>\n",
       "      <td>...</td>\n",
       "      <td>...</td>\n",
       "      <td>...</td>\n",
       "    </tr>\n",
       "    <tr>\n",
       "      <th>9695</th>\n",
       "      <td>CA-2018-154116</td>\n",
       "      <td>15/12/2018</td>\n",
       "      <td>KM-16660</td>\n",
       "      <td>Consumer</td>\n",
       "      <td>United States</td>\n",
       "      <td>Inglewood</td>\n",
       "      <td>California</td>\n",
       "      <td>OFF-PA-10004569</td>\n",
       "      <td>Office Supplies</td>\n",
       "      <td>Paper</td>\n",
       "      <td>22.8300</td>\n",
       "      <td>15</td>\n",
       "      <td>12</td>\n",
       "      <td>2018</td>\n",
       "    </tr>\n",
       "    <tr>\n",
       "      <th>9696</th>\n",
       "      <td>CA-2018-154116</td>\n",
       "      <td>15/12/2018</td>\n",
       "      <td>KM-16660</td>\n",
       "      <td>Consumer</td>\n",
       "      <td>United States</td>\n",
       "      <td>Inglewood</td>\n",
       "      <td>California</td>\n",
       "      <td>OFF-AP-10000027</td>\n",
       "      <td>Office Supplies</td>\n",
       "      <td>Appliances</td>\n",
       "      <td>54.3200</td>\n",
       "      <td>15</td>\n",
       "      <td>12</td>\n",
       "      <td>2018</td>\n",
       "    </tr>\n",
       "    <tr>\n",
       "      <th>9697</th>\n",
       "      <td>CA-2018-154116</td>\n",
       "      <td>15/12/2018</td>\n",
       "      <td>KM-16660</td>\n",
       "      <td>Consumer</td>\n",
       "      <td>United States</td>\n",
       "      <td>Inglewood</td>\n",
       "      <td>California</td>\n",
       "      <td>TEC-PH-10000675</td>\n",
       "      <td>Technology</td>\n",
       "      <td>Phones</td>\n",
       "      <td>196.7760</td>\n",
       "      <td>15</td>\n",
       "      <td>12</td>\n",
       "      <td>2018</td>\n",
       "    </tr>\n",
       "    <tr>\n",
       "      <th>9698</th>\n",
       "      <td>CA-2017-105291</td>\n",
       "      <td>30/10/2017</td>\n",
       "      <td>SP-20920</td>\n",
       "      <td>Consumer</td>\n",
       "      <td>United States</td>\n",
       "      <td>San Luis Obispo</td>\n",
       "      <td>California</td>\n",
       "      <td>OFF-FA-10003059</td>\n",
       "      <td>Office Supplies</td>\n",
       "      <td>Fasteners</td>\n",
       "      <td>3.6200</td>\n",
       "      <td>30</td>\n",
       "      <td>10</td>\n",
       "      <td>2017</td>\n",
       "    </tr>\n",
       "    <tr>\n",
       "      <th>9699</th>\n",
       "      <td>CA-2018-147032</td>\n",
       "      <td>31/07/2018</td>\n",
       "      <td>LB-16795</td>\n",
       "      <td>Home Office</td>\n",
       "      <td>United States</td>\n",
       "      <td>Wilmington</td>\n",
       "      <td>Delaware</td>\n",
       "      <td>OFF-PA-10003256</td>\n",
       "      <td>Office Supplies</td>\n",
       "      <td>Paper</td>\n",
       "      <td>11.5400</td>\n",
       "      <td>31</td>\n",
       "      <td>7</td>\n",
       "      <td>2018</td>\n",
       "    </tr>\n",
       "  </tbody>\n",
       "</table>\n",
       "<p>9700 rows × 14 columns</p>\n",
       "</div>"
      ],
      "text/plain": [
       "           ID_Pedido Data_Pedido ID_Cliente     Segmento           Pais  \\\n",
       "0     CA-2017-152156  08/11/2017   CG-12520     Consumer  United States   \n",
       "1     CA-2017-152156  08/11/2017   CG-12520     Consumer  United States   \n",
       "2     CA-2017-138688  12/06/2017   DV-13045    Corporate  United States   \n",
       "3     US-2016-108966  11/10/2016   SO-20335     Consumer  United States   \n",
       "4     US-2016-108966  11/10/2016   SO-20335     Consumer  United States   \n",
       "...              ...         ...        ...          ...            ...   \n",
       "9695  CA-2018-154116  15/12/2018   KM-16660     Consumer  United States   \n",
       "9696  CA-2018-154116  15/12/2018   KM-16660     Consumer  United States   \n",
       "9697  CA-2018-154116  15/12/2018   KM-16660     Consumer  United States   \n",
       "9698  CA-2017-105291  30/10/2017   SP-20920     Consumer  United States   \n",
       "9699  CA-2018-147032  31/07/2018   LB-16795  Home Office  United States   \n",
       "\n",
       "               Cidade      Estado       ID_Produto        Categoria  \\\n",
       "0           Henderson    Kentucky  FUR-BO-10001798        Furniture   \n",
       "1           Henderson    Kentucky  FUR-CH-10000454        Furniture   \n",
       "2         Los Angeles  California  OFF-LA-10000240  Office Supplies   \n",
       "3     Fort Lauderdale     Florida  FUR-TA-10000577        Furniture   \n",
       "4     Fort Lauderdale     Florida  OFF-ST-10000760  Office Supplies   \n",
       "...               ...         ...              ...              ...   \n",
       "9695        Inglewood  California  OFF-PA-10004569  Office Supplies   \n",
       "9696        Inglewood  California  OFF-AP-10000027  Office Supplies   \n",
       "9697        Inglewood  California  TEC-PH-10000675       Technology   \n",
       "9698  San Luis Obispo  California  OFF-FA-10003059  Office Supplies   \n",
       "9699       Wilmington    Delaware  OFF-PA-10003256  Office Supplies   \n",
       "\n",
       "     SubCategoria  Valor_Venda Dia  Mes   Ano  \n",
       "0       Bookcases     261.9600  08   11  2017  \n",
       "1          Chairs     731.9400  08   11  2017  \n",
       "2          Labels      14.6200  12    6  2017  \n",
       "3          Tables     957.5775  11   10  2016  \n",
       "4         Storage      22.3680  11   10  2016  \n",
       "...           ...          ...  ..  ...   ...  \n",
       "9695        Paper      22.8300  15   12  2018  \n",
       "9696   Appliances      54.3200  15   12  2018  \n",
       "9697       Phones     196.7760  15   12  2018  \n",
       "9698    Fasteners       3.6200  30   10  2017  \n",
       "9699        Paper      11.5400  31    7  2018  \n",
       "\n",
       "[9700 rows x 14 columns]"
      ]
     },
     "execution_count": 99,
     "metadata": {},
     "output_type": "execute_result"
    }
   ],
   "source": [
    "\n",
    "ecom[['Dia', 'Mes','Ano']] = ecom['Data_Pedido'].str.split('/', expand=True)\n",
    "ecom['Mes']= ecom['Mes'].astype('int32')\n",
    "ecom['Ano']= ecom['Ano'].astype('int32')\n",
    "\n",
    "ecom"
   ]
  },
  {
   "cell_type": "code",
   "execution_count": 101,
   "id": "34fe0c25",
   "metadata": {},
   "outputs": [
    {
     "name": "stdout",
     "output_type": "stream",
     "text": [
      "<class 'pandas.core.frame.DataFrame'>\n",
      "RangeIndex: 9700 entries, 0 to 9699\n",
      "Data columns (total 14 columns):\n",
      " #   Column        Non-Null Count  Dtype  \n",
      "---  ------        --------------  -----  \n",
      " 0   ID_Pedido     9700 non-null   object \n",
      " 1   Data_Pedido   9700 non-null   object \n",
      " 2   ID_Cliente    9700 non-null   object \n",
      " 3   Segmento      9700 non-null   object \n",
      " 4   Pais          9700 non-null   object \n",
      " 5   Cidade        9700 non-null   object \n",
      " 6   Estado        9700 non-null   object \n",
      " 7   ID_Produto    9700 non-null   object \n",
      " 8   Categoria     9700 non-null   object \n",
      " 9   SubCategoria  9700 non-null   object \n",
      " 10  Valor_Venda   9700 non-null   float64\n",
      " 11  Dia           9700 non-null   object \n",
      " 12  Mes           9700 non-null   int32  \n",
      " 13  Ano           9700 non-null   int32  \n",
      "dtypes: float64(1), int32(2), object(11)\n",
      "memory usage: 985.3+ KB\n"
     ]
    }
   ],
   "source": [
    " ecom.info()\n",
    "\n"
   ]
  },
  {
   "cell_type": "code",
   "execution_count": 110,
   "id": "07194f65",
   "metadata": {},
   "outputs": [],
   "source": [
    "medias= ecom.groupby(['Ano','Mes','Segmento']).sum()"
   ]
  },
  {
   "cell_type": "code",
   "execution_count": 138,
   "id": "a0000886",
   "metadata": {},
   "outputs": [],
   "source": [
    "medias['mean']= ecom.groupby(['Ano','Mes','Segmento'])['Valor_Venda'].mean()\n",
    "medias['median']= ecom.groupby(['Ano','Mes','Segmento'])['Valor_Venda'].median()\n"
   ]
  },
  {
   "cell_type": "code",
   "execution_count": 139,
   "id": "7ff80ff8",
   "metadata": {},
   "outputs": [],
   "source": [
    "medias=medias[['Valor_Venda','mean','median']]"
   ]
  },
  {
   "cell_type": "code",
   "execution_count": 140,
   "id": "01ac01cb",
   "metadata": {},
   "outputs": [
    {
     "data": {
      "text/html": [
       "<div>\n",
       "<style scoped>\n",
       "    .dataframe tbody tr th:only-of-type {\n",
       "        vertical-align: middle;\n",
       "    }\n",
       "\n",
       "    .dataframe tbody tr th {\n",
       "        vertical-align: top;\n",
       "    }\n",
       "\n",
       "    .dataframe thead th {\n",
       "        text-align: right;\n",
       "    }\n",
       "</style>\n",
       "<table border=\"1\" class=\"dataframe\">\n",
       "  <thead>\n",
       "    <tr style=\"text-align: right;\">\n",
       "      <th></th>\n",
       "      <th></th>\n",
       "      <th></th>\n",
       "      <th>Valor_Venda</th>\n",
       "      <th>mean</th>\n",
       "      <th>median</th>\n",
       "    </tr>\n",
       "    <tr>\n",
       "      <th>Ano</th>\n",
       "      <th>Mes</th>\n",
       "      <th>Segmento</th>\n",
       "      <th></th>\n",
       "      <th></th>\n",
       "      <th></th>\n",
       "    </tr>\n",
       "  </thead>\n",
       "  <tbody>\n",
       "    <tr>\n",
       "      <th rowspan=\"5\" valign=\"top\">2015</th>\n",
       "      <th rowspan=\"3\" valign=\"top\">1</th>\n",
       "      <th>Consumer</th>\n",
       "      <td>6896.6290</td>\n",
       "      <td>146.736787</td>\n",
       "      <td>36.440</td>\n",
       "    </tr>\n",
       "    <tr>\n",
       "      <th>Corporate</th>\n",
       "      <td>1701.5280</td>\n",
       "      <td>130.886769</td>\n",
       "      <td>51.940</td>\n",
       "    </tr>\n",
       "    <tr>\n",
       "      <th>Home Office</th>\n",
       "      <td>5607.5500</td>\n",
       "      <td>329.855882</td>\n",
       "      <td>62.820</td>\n",
       "    </tr>\n",
       "    <tr>\n",
       "      <th rowspan=\"2\" valign=\"top\">2</th>\n",
       "      <th>Consumer</th>\n",
       "      <td>3167.8540</td>\n",
       "      <td>117.327926</td>\n",
       "      <td>22.776</td>\n",
       "    </tr>\n",
       "    <tr>\n",
       "      <th>Corporate</th>\n",
       "      <td>623.1180</td>\n",
       "      <td>69.235333</td>\n",
       "      <td>62.310</td>\n",
       "    </tr>\n",
       "    <tr>\n",
       "      <th>...</th>\n",
       "      <th>...</th>\n",
       "      <th>...</th>\n",
       "      <td>...</td>\n",
       "      <td>...</td>\n",
       "      <td>...</td>\n",
       "    </tr>\n",
       "    <tr>\n",
       "      <th rowspan=\"5\" valign=\"top\">2018</th>\n",
       "      <th rowspan=\"2\" valign=\"top\">11</th>\n",
       "      <th>Corporate</th>\n",
       "      <td>44357.9862</td>\n",
       "      <td>341.215278</td>\n",
       "      <td>79.530</td>\n",
       "    </tr>\n",
       "    <tr>\n",
       "      <th>Home Office</th>\n",
       "      <td>24009.3840</td>\n",
       "      <td>247.519423</td>\n",
       "      <td>56.560</td>\n",
       "    </tr>\n",
       "    <tr>\n",
       "      <th rowspan=\"3\" valign=\"top\">12</th>\n",
       "      <th>Consumer</th>\n",
       "      <td>48107.4558</td>\n",
       "      <td>183.616244</td>\n",
       "      <td>52.533</td>\n",
       "    </tr>\n",
       "    <tr>\n",
       "      <th>Corporate</th>\n",
       "      <td>20524.4320</td>\n",
       "      <td>153.167403</td>\n",
       "      <td>46.460</td>\n",
       "    </tr>\n",
       "    <tr>\n",
       "      <th>Home Office</th>\n",
       "      <td>13022.3910</td>\n",
       "      <td>224.523983</td>\n",
       "      <td>49.260</td>\n",
       "    </tr>\n",
       "  </tbody>\n",
       "</table>\n",
       "<p>144 rows × 3 columns</p>\n",
       "</div>"
      ],
      "text/plain": [
       "                      Valor_Venda        mean  median\n",
       "Ano  Mes Segmento                                    \n",
       "2015 1   Consumer       6896.6290  146.736787  36.440\n",
       "         Corporate      1701.5280  130.886769  51.940\n",
       "         Home Office    5607.5500  329.855882  62.820\n",
       "     2   Consumer       3167.8540  117.327926  22.776\n",
       "         Corporate       623.1180   69.235333  62.310\n",
       "...                           ...         ...     ...\n",
       "2018 11  Corporate     44357.9862  341.215278  79.530\n",
       "         Home Office   24009.3840  247.519423  56.560\n",
       "     12  Consumer      48107.4558  183.616244  52.533\n",
       "         Corporate     20524.4320  153.167403  46.460\n",
       "         Home Office   13022.3910  224.523983  49.260\n",
       "\n",
       "[144 rows x 3 columns]"
      ]
     },
     "execution_count": 140,
     "metadata": {},
     "output_type": "execute_result"
    }
   ],
   "source": [
    "medias"
   ]
  },
  {
   "cell_type": "code",
   "execution_count": 141,
   "id": "ce8b7d85",
   "metadata": {},
   "outputs": [
    {
     "data": {
      "text/plain": [
       "Text(0.5, 0, 'Valor')"
      ]
     },
     "execution_count": 141,
     "metadata": {},
     "output_type": "execute_result"
    },
    {
     "data": {
      "image/png": "[encoded data removed]",
      "text/plain": [
       "<Figure size 640x480 with 1 Axes>"
      ]
     },
     "metadata": {},
     "output_type": "display_data"
    }
   ],
   "source": [
    "grafico =sns.histplot(medias)\n",
    "\n",
    "grafico.set_title('Total de Vendas ano, por mês')\n",
    "grafico.set_xlabel('Valor')"
   ]
  },
  {
   "cell_type": "code",
   "execution_count": 143,
   "id": "4a216368",
   "metadata": {},
   "outputs": [
    {
     "data": {
      "text/plain": [
       "<Axes: xlabel='Ano,Mes,Segmento'>"
      ]
     },
     "execution_count": 143,
     "metadata": {},
     "output_type": "execute_result"
    },
    {
     "data": {
      "image/png": "[encoded data removed]",
      "text/plain": [
       "<Figure size 640x480 with 1 Axes>"
      ]
     },
     "metadata": {},
     "output_type": "display_data"
    }
   ],
   "source": [
    "medias.plot()"
   ]
  },
  {
   "cell_type": "code",
   "execution_count": null,
   "id": "9460cae0",
   "metadata": {},
   "outputs": [],
   "source": []
  }
 ],
 "metadata": {
  "kernelspec": {
   "display_name": "Python 3 (ipykernel)",
   "language": "python",
   "name": "python3"
  },
  "language_info": {
   "codemirror_mode": {
    "name": "ipython",
    "version": 3
   },
   "file_extension": ".py",
   "mimetype": "text/x-python",
   "name": "python",
   "nbconvert_exporter": "python",
   "pygments_lexer": "ipython3",
   "version": "3.11.5"
  }
 },
 "nbformat": 4,
 "nbformat_minor": 5
}
